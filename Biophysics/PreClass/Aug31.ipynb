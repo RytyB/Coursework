{
 "cells": [
  {
   "cell_type": "markdown",
   "id": "d96286ee-4086-4704-81d2-78e399213034",
   "metadata": {},
   "source": [
    "<h1> Pre Class Assignment August 31 </h1>"
   ]
  },
  {
   "cell_type": "markdown",
   "id": "2f9c29a9-6bc4-4f48-89e8-3dd546c1faa0",
   "metadata": {},
   "source": [
    "<h1> Answers </h1>\n",
    "<p>\n",
    "<b> Problem 1 </b>\n",
    "<li>Mean = 3.557</li>\n",
    "<li>Variance = 10.775</li>\n",
    "<li>Prob(rolling 3 1s) = .002863</li>\n",
    "<li>Prob(rolling 3 6s) = .00613 </li>\n",
    "<br>\n",
    "<b> Problem 2 </b>\n",
    "<li> x = $1.95 </li>"
   ]
  },
  {
   "cell_type": "code",
   "execution_count": 1,
   "id": "769bfc7e-6d84-4f42-9dae-58208196fee0",
   "metadata": {},
   "outputs": [],
   "source": [
    "import pandas as pd\n",
    "import numpy as np\n",
    "import matplotlib.pyplot as plt"
   ]
  },
  {
   "cell_type": "markdown",
   "id": "d92a9f40-a473-48c9-ab7f-993b84f309e6",
   "metadata": {
    "jp-MarkdownHeadingCollapsed": true
   },
   "source": [
    "<h2> Problem 1 </h2>"
   ]
  },
  {
   "cell_type": "code",
   "execution_count": 2,
   "id": "988fa85a-89b2-4788-9ec5-3c0efe5ac4c7",
   "metadata": {},
   "outputs": [
    {
     "data": {
      "text/html": [
       "<div>\n",
       "<style scoped>\n",
       "    .dataframe tbody tr th:only-of-type {\n",
       "        vertical-align: middle;\n",
       "    }\n",
       "\n",
       "    .dataframe tbody tr th {\n",
       "        vertical-align: top;\n",
       "    }\n",
       "\n",
       "    .dataframe thead th {\n",
       "        text-align: right;\n",
       "    }\n",
       "</style>\n",
       "<table border=\"1\" class=\"dataframe\">\n",
       "  <thead>\n",
       "    <tr style=\"text-align: right;\">\n",
       "      <th></th>\n",
       "      <th>numbers</th>\n",
       "      <th>probabilities</th>\n",
       "    </tr>\n",
       "  </thead>\n",
       "  <tbody>\n",
       "    <tr>\n",
       "      <th>0</th>\n",
       "      <td>1</td>\n",
       "      <td>0.142</td>\n",
       "    </tr>\n",
       "    <tr>\n",
       "      <th>1</th>\n",
       "      <td>2</td>\n",
       "      <td>0.150</td>\n",
       "    </tr>\n",
       "    <tr>\n",
       "      <th>2</th>\n",
       "      <td>3</td>\n",
       "      <td>0.158</td>\n",
       "    </tr>\n",
       "    <tr>\n",
       "      <th>3</th>\n",
       "      <td>4</td>\n",
       "      <td>0.167</td>\n",
       "    </tr>\n",
       "    <tr>\n",
       "      <th>4</th>\n",
       "      <td>5</td>\n",
       "      <td>0.175</td>\n",
       "    </tr>\n",
       "    <tr>\n",
       "      <th>5</th>\n",
       "      <td>6</td>\n",
       "      <td>0.183</td>\n",
       "    </tr>\n",
       "  </tbody>\n",
       "</table>\n",
       "</div>"
      ],
      "text/plain": [
       "   numbers  probabilities\n",
       "0        1          0.142\n",
       "1        2          0.150\n",
       "2        3          0.158\n",
       "3        4          0.167\n",
       "4        5          0.175\n",
       "5        6          0.183"
      ]
     },
     "execution_count": 2,
     "metadata": {},
     "output_type": "execute_result"
    }
   ],
   "source": [
    "probs = {\n",
    "    'numbers': [1,2,3,4,5,6],\n",
    "    'probabilities': [.142, .150, .158, .167, .175, .183]\n",
    "}\n",
    "probs = pd.DataFrame.from_dict(probs)\n",
    "probs"
   ]
  },
  {
   "cell_type": "code",
   "execution_count": 7,
   "id": "10057ff5-4689-4aee-80be-f29fdf5722ed",
   "metadata": {},
   "outputs": [
    {
     "name": "stdout",
     "output_type": "stream",
     "text": [
      "Expectation value is 3.557\n"
     ]
    }
   ],
   "source": [
    "# Find the expected value of the distribution\n",
    "probs['mu'] = probs['numbers'] * probs['probabilities']\n",
    "probs\n",
    "mean = probs['mu'].sum()\n",
    "print('Expectation value is ' +str(mean))"
   ]
  },
  {
   "cell_type": "markdown",
   "id": "ba96ef5d-8352-4b05-aa5f-c54bf02e9f50",
   "metadata": {},
   "source": [
    "$ \\sigma^2 = \\sum (x- \\mu)^2 P(x) $"
   ]
  },
  {
   "cell_type": "code",
   "execution_count": 10,
   "id": "5e866fc9-beb5-4841-aebf-094e2ddec2e3",
   "metadata": {},
   "outputs": [
    {
     "name": "stdout",
     "output_type": "stream",
     "text": [
      "The variance of the sample is 10.775405411000001\n"
     ]
    }
   ],
   "source": [
    "# Find the variance of the expected value\n",
    "probs['sigmaElement'] = probs['probabilities'] * (probs['numbers'] - probs['mu']) ** 2 \n",
    "variance = probs['sigmaElement'].sum()\n",
    "print('The variance of the sample is ' + str(variance) )"
   ]
  },
  {
   "cell_type": "code",
   "execution_count": 23,
   "id": "e5a16736-3af8-4e82-a70f-3f360422e230",
   "metadata": {},
   "outputs": [
    {
     "name": "stdout",
     "output_type": "stream",
     "text": [
      "Probability of rolling three 1s in a row is 0    0.002863\n",
      "Name: probabilities, dtype: float64\n"
     ]
    }
   ],
   "source": [
    "# Find the probability of rolling 3 ones\n",
    "prob31 = probs['probabilities'].loc[probs['numbers']==1] ** 3\n",
    "print('Probability of rolling three 1s in a row is ' + str(prob31))"
   ]
  },
  {
   "cell_type": "code",
   "execution_count": 21,
   "id": "70b2fdbe-9151-49d4-b175-935d750e4883",
   "metadata": {},
   "outputs": [
    {
     "name": "stdout",
     "output_type": "stream",
     "text": [
      "Probability of rolling three 6s in a row is 5    0.006128\n",
      "Name: probabilities, dtype: float64\n"
     ]
    }
   ],
   "source": [
    "# Find the probability of rolling 3 ones\n",
    "prob61 = probs['probabilities'].loc[probs['numbers']==6] ** 3\n",
    "print('Probability of rolling three 6s in a row is ' + str(prob61))"
   ]
  },
  {
   "cell_type": "markdown",
   "id": "1be4b314-24cf-46ce-9de7-8d571d0edb38",
   "metadata": {
    "jp-MarkdownHeadingCollapsed": true
   },
   "source": [
    "<h2> Problem 2</h2>"
   ]
  },
  {
   "cell_type": "code",
   "execution_count": 41,
   "id": "2e35ee33-cf97-4c8f-892d-9845485fd348",
   "metadata": {},
   "outputs": [],
   "source": [
    "# Find permutations of possible rolls\n",
    "myRolls = []\n",
    "myRollProbs = []\n",
    "for i in range(len( probs['numbers'] )):\n",
    "    for j in range(len( probs['numbers'] )):\n",
    "        myRolls.append( probs['numbers'][i] + probs['numbers'][j] )\n",
    "        myRollProbs.append( probs['probabilities'][i] * probs['probabilities'][j] )\n",
    "\n",
    "myRollsSimplified = np.arange(2, 13)\n",
    "myRollProbsSimp = np.zeros( (11,) )\n",
    "for i in range(len( myRolls )):\n",
    "    for j in range(len( myRollsSimplified )):\n",
    "        if myRolls[i] == myRollsSimplified[j]:\n",
    "            myRollProbsSimp[j] += myRollProbs[i]\n",
    "\n",
    "myProbs = pd.DataFrame()\n",
    "myProbs['rolls'] = myRollsSimplified\n",
    "myProbs['probs'] = myRollProbsSimp"
   ]
  },
  {
   "cell_type": "code",
   "execution_count": 40,
   "id": "197a30e4-ad89-4b9f-a166-ecf1ba9e23f8",
   "metadata": {},
   "outputs": [
    {
     "name": "stdout",
     "output_type": "stream",
     "text": [
      "6.93615\n"
     ]
    }
   ],
   "source": [
    "# Find the expectation of my rolls\n",
    "myProbs['mu'] = myProbs['rolls'] * myProbs['probs']\n",
    "expect = myProbs['mu'].sum()\n",
    "print( expect )"
   ]
  },
  {
   "cell_type": "markdown",
   "id": "c250b80f-f234-4322-af9f-83a9070816ca",
   "metadata": {},
   "source": [
    " $ 6.93615 \\cdot 1 = 3.557 \\cdot x $"
   ]
  },
  {
   "cell_type": "code",
   "execution_count": 45,
   "id": "aa11a76d-0697-486b-b291-f2a352d75706",
   "metadata": {},
   "outputs": [
    {
     "name": "stdout",
     "output_type": "stream",
     "text": [
      "If you won $1.95 then we should expect to come out even\n"
     ]
    }
   ],
   "source": [
    "yourWinnings = 6.93615/3.557\n",
    "print( 'If you won $' + str(yourWinnings) + ' then we should expect to come out even')"
   ]
  }
 ],
 "metadata": {
  "kernelspec": {
   "display_name": "Python 3 (ipykernel)",
   "language": "python",
   "name": "python3"
  },
  "language_info": {
   "codemirror_mode": {
    "name": "ipython",
    "version": 3
   },
   "file_extension": ".py",
   "mimetype": "text/x-python",
   "name": "python",
   "nbconvert_exporter": "python",
   "pygments_lexer": "ipython3",
   "version": "3.10.12"
  }
 },
 "nbformat": 4,
 "nbformat_minor": 5
}
