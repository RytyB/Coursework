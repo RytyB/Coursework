{
 "cells": [
  {
   "cell_type": "markdown",
   "id": "5018b660-5c4f-4192-b661-9cf94d7b8d3c",
   "metadata": {},
   "source": [
    "<h1> Pre Class Assignment September 7 </h1>"
   ]
  },
  {
   "cell_type": "markdown",
   "id": "a2885168-1ae3-443a-b063-727b9aea4051",
   "metadata": {},
   "source": [
    "<h2> Part 1 </h2>"
   ]
  },
  {
   "cell_type": "markdown",
   "id": "8489631c-0ee3-482f-92ca-3056b483caea",
   "metadata": {},
   "source": [
    "<p> From the first moment we have $ <x> \\mu $ and $ <x^2> = \\sigma^2 + \\mu^2 $. \n",
    "Using Mathematica we can easily find $ <x^3> = \\mu(\\mu^2 + 3 \\sigma^2) $ and\n",
    "$ <x^4> = \\mu^4 + 6 \\mu^2 \\sigma^2 + 3 \\sigma^4 $. \n",
    "<br>Finally, we have the relative moments:\n",
    "<br> $ < (x - <x>)^3 > = - 3\\sigma^2 \\mu = 0 $\n",
    "<br> and $ < (x - <x>)^4 > = - 6 \\mu^2 \\sigma^2 - 3 \\sigma^4 = -3 \\sigma^4 $ \n",
    "</p>"
   ]
  },
  {
   "cell_type": "markdown",
   "id": "7ed088f5-5652-4258-bbbf-a65b859c67cf",
   "metadata": {},
   "source": [
    "<h2> Part 2 </h2>"
   ]
  },
  {
   "cell_type": "markdown",
   "id": "2dcc8bda-a7de-482b-94e7-c7b07cb0c071",
   "metadata": {},
   "source": [
    "<p> The central limit theorem requires that all the samples have the same probability distribution. The first part of the experiment is always\n",
    "the same uniform distribution, but the second part will have a different distribution depending on the results of the first part. </p>"
   ]
  }
 ],
 "metadata": {
  "kernelspec": {
   "display_name": "Python 3 (ipykernel)",
   "language": "python",
   "name": "python3"
  },
  "language_info": {
   "codemirror_mode": {
    "name": "ipython",
    "version": 3
   },
   "file_extension": ".py",
   "mimetype": "text/x-python",
   "name": "python",
   "nbconvert_exporter": "python",
   "pygments_lexer": "ipython3",
   "version": "3.10.12"
  }
 },
 "nbformat": 4,
 "nbformat_minor": 5
}
